{
  "cells": [
    {
      "cell_type": "markdown",
      "metadata": {},
      "source": [
        "## Init"
      ]
    },
    {
      "cell_type": "code",
      "execution_count": null,
      "metadata": {
        "notebookRunGroups": {
          "groupValue": "1"
        }
      },
      "outputs": [],
      "source": [
        "!pip3 install ColabTurtle\n",
        "import ColabTurtle.Turtle as t\n",
        "\n"
      ]
    },
    {
      "cell_type": "markdown",
      "metadata": {},
      "source": [
        "## Included example code"
      ]
    },
    {
      "cell_type": "code",
      "execution_count": null,
      "metadata": {},
      "outputs": [],
      "source": [
        "# example code for Sierpinski Triangle, was included in the Jupyter notebook\n",
        "\n",
        "#import ColabTurtle.Turtle as t\n",
        "t.initializeTurtle()\n",
        "t.bgcolor('white')\n",
        "t.pencolor('black')\n",
        "t.speed(13) # 1-13\n",
        "\n",
        "\n",
        "t.penup()\n",
        "#t.back(40)\n",
        "t.left(90)\n",
        "t.pendown()\n",
        "\n",
        "\n",
        "def sTriangle(side, minSide):\n",
        "  if (side<minSide):\n",
        "    #print(\"side of ret: \", side)\n",
        "    return\n",
        "  else:\n",
        "    for i in range(3):\n",
        "      #print(\"side: \", side)\n",
        "      t.forward(side)\n",
        "      t.right(120)\n",
        "      sTriangle(side*0.5, minSide)\n",
        "  \n",
        "sTriangle(200,20)"
      ]
    },
    {
      "cell_type": "markdown",
      "metadata": {},
      "source": [
        "## Task 1"
      ]
    },
    {
      "cell_type": "code",
      "execution_count": null,
      "metadata": {},
      "outputs": [],
      "source": [
        "#import ColabTurtle.Turtle as t\n",
        "t.initializeTurtle(13, (1200, 1000))\n",
        "\n",
        "margins = ((t.window_width() * 0.05, t.window_width() * 0.95), (t.window_height() * 0.05, t.window_height() * 0.95))\n",
        "\n",
        "t.bgcolor('white')\n",
        "t.pencolor('black')\n",
        "t.width(1)\n",
        "t.shape('circle')\n",
        "\n",
        "\n",
        "\n",
        "\n",
        "\n",
        "t.penup()\n",
        "t.goto(margins[0][1], margins[1][1])\n",
        "#t.back(40)\n",
        "t.left(90)\n",
        "t.pendown()\n",
        "\n",
        "\n",
        "\n",
        "def sTriangle(side, maxIter, iter = 0):\n",
        "  if (iter>=maxIter):\n",
        "    return\n",
        "  else:\n",
        "    for i in range(3):\n",
        "      t.forward(side)\n",
        "      t.right(120)\n",
        "      sTriangle(side*(1/3), maxIter, iter = iter+1)\n",
        "  \n",
        "sTriangle((margins[1][1] - margins[1][0])* (2/1.73), 5)"
      ]
    },
    {
      "cell_type": "markdown",
      "metadata": {},
      "source": [
        "## Task 2"
      ]
    },
    {
      "cell_type": "code",
      "execution_count": null,
      "metadata": {},
      "outputs": [],
      "source": [
        "#import ColabTurtle.Turtle as t\n",
        "t.initializeTurtle(13, (500, 500))\n",
        "\n",
        "margins = ((t.window_width() * 0.05, t.window_width() * 0.95), (t.window_height() * 0.05, t.window_height() * 0.95))\n",
        "\n",
        "t.bgcolor('white')\n",
        "t.pencolor('black')\n",
        "t.width(1)\n",
        "t.shape('circle')\n",
        "\n",
        "\n",
        "\n",
        "\n",
        "t.penup()\n",
        "t.home()\n",
        "#t.back(40)\n",
        "t.right(90)\n",
        "t.pendown()\n",
        "\n",
        "\n",
        "\n",
        "def square(side, maxIter, iter = 0):\n",
        "  if (iter>=maxIter):\n",
        "    #t.right(90)\n",
        "    return\n",
        "  else:\n",
        "    for i in range(2):\n",
        "      t.forward(side)\n",
        "      \n",
        "      square(side*(1/2), maxIter, iter = iter+1)\n",
        "      \n",
        "      if iter%2 == 0:\n",
        "        t.left(90)\n",
        "      else:\n",
        "        t.right(90)\n",
        "      \n",
        "      t.forward(side)\n",
        "\n",
        "      if iter%2 == 0:\n",
        "        t.left(90)\n",
        "      else:\n",
        "        t.right(90)\n",
        "      \n",
        "      \n",
        "  \n",
        "square((margins[1][1] / 6), 5)"
      ]
    },
    {
      "cell_type": "markdown",
      "metadata": {},
      "source": [
        "## Task 3"
      ]
    },
    {
      "cell_type": "code",
      "execution_count": null,
      "metadata": {},
      "outputs": [],
      "source": [
        "#import ColabTurtle.Turtle as t\n",
        "t.initializeTurtle(13, (500, 500))\n",
        "\n",
        "margins = ((t.window_width() * 0.05, t.window_width() * 0.95), (t.window_height() * 0.05, t.window_height() * 0.95))\n",
        "\n",
        "t.bgcolor('white')\n",
        "t.pencolor('black')\n",
        "t.width(1)\n",
        "t.shape('circle')\n",
        "\n",
        "\n",
        "\n",
        "\n",
        "t.penup()\n",
        "t.goto(t.window_width()/2, margins[1][1])\n",
        "#t.back(40)\n",
        "\n",
        "t.pendown()\n",
        "\n",
        "\n",
        "\n",
        "def lines(len, maxIter, iter = 0):\n",
        "  if (iter>=maxIter):\n",
        "\n",
        "    return\n",
        "  else:\n",
        "\n",
        "    t.forward(len)\n",
        "\n",
        "    t.left(22.5)\n",
        "    lines(len*(1/2), maxIter, iter = iter+1)\n",
        "    \n",
        "    for i in range(2):\n",
        "      t.left(45)\n",
        "      lines(len*(1/2), maxIter, iter = iter+1)\n",
        "\n",
        "    t.right(135)\n",
        "    lines(len*(1/2), maxIter, iter = iter+1)\n",
        "\n",
        "    for i in range(2):\n",
        "      t.right(45)\n",
        "      lines(len*(1/2), maxIter, iter = iter+1)\n",
        "\n",
        "    t.left(90+22.5)\n",
        "    t.back(len)\n",
        "     \n",
        "      \n",
        "      \n",
        "      \n",
        "  \n",
        "lines((margins[1][1] / 4), 3)"
      ]
    }
  ],
  "metadata": {
    "colab": {
      "name": "labTurtle.ipynb",
      "provenance": []
    },
    "kernelspec": {
      "display_name": "Python 3.10.8 64-bit",
      "language": "python",
      "name": "python3"
    },
    "language_info": {
      "codemirror_mode": {
        "name": "ipython",
        "version": 3
      },
      "file_extension": ".py",
      "mimetype": "text/x-python",
      "name": "python",
      "nbconvert_exporter": "python",
      "pygments_lexer": "ipython3",
      "version": "3.10.8"
    },
    "vscode": {
      "interpreter": {
        "hash": "e7370f93d1d0cde622a1f8e1c04877d8463912d04d973331ad4851f04de6915a"
      }
    }
  },
  "nbformat": 4,
  "nbformat_minor": 0
}
