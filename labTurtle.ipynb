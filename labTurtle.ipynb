{
  "cells": [
    {
      "cell_type": "code",
      "execution_count": 1,
      "metadata": {
        "notebookRunGroups": {
          "groupValue": "1"
        }
      },
      "outputs": [
        {
          "name": "stdout",
          "output_type": "stream",
          "text": [
            "Defaulting to user installation because normal site-packages is not writeable\n",
            "Requirement already satisfied: ColabTurtle in /home/adam/.local/lib/python3.10/site-packages (2.1.0)\n"
          ]
        }
      ],
      "source": [
        "!pip3 install ColabTurtle\n",
        "import ColabTurtle.Turtle as t\n",
        "\n"
      ]
    },
    {
      "cell_type": "code",
      "execution_count": null,
      "metadata": {},
      "outputs": [],
      "source": [
        "# example code for Sierpinski Triangle, was included in the Jupyter notebook\n",
        "\n",
        "#import ColabTurtle.Turtle as t\n",
        "t.initializeTurtle()\n",
        "t.bgcolor('white')\n",
        "t.pencolor('black')\n",
        "t.speed(13) # 1-13\n",
        "\n",
        "\n",
        "t.penup()\n",
        "#t.back(40)\n",
        "t.left(90)\n",
        "t.pendown()\n",
        "\n",
        "\n",
        "def sTriangle(side, minSide):\n",
        "  if (side<minSide):\n",
        "    #print(\"side of ret: \", side)\n",
        "    return\n",
        "  else:\n",
        "    for i in range(3):\n",
        "      #print(\"side: \", side)\n",
        "      t.forward(side)\n",
        "      t.right(120)\n",
        "      sTriangle(side*0.5, minSide)\n",
        "  \n",
        "sTriangle(200,20)"
      ]
    },
    {
      "cell_type": "code",
      "execution_count": null,
      "metadata": {},
      "outputs": [],
      "source": [
        "#import ColabTurtle.Turtle as t\n",
        "t.initializeTurtle(13, (1200, 1000))\n",
        "\n",
        "margins = ((t.window_width() * 0.05, t.window_width() * 0.95), (t.window_height() * 0.05, t.window_height() * 0.95))\n",
        "\n",
        "t.bgcolor('white')\n",
        "t.pencolor('black')\n",
        "t.width(1)\n",
        "t.shape('circle')\n",
        "\n",
        "\n",
        "\n",
        "\n",
        "\n",
        "t.penup()\n",
        "t.goto(margins[0][1], margins[1][1])\n",
        "#t.back(40)\n",
        "t.left(90)\n",
        "t.pendown()\n",
        "\n",
        "\n",
        "\n",
        "def sTriangle(side, maxIter, iter = 0):\n",
        "  if (iter>=maxIter):\n",
        "    return\n",
        "  else:\n",
        "    for i in range(3):\n",
        "      t.forward(side)\n",
        "      t.right(120)\n",
        "      sTriangle(side*(1/3), maxIter, iter = iter+1)\n",
        "  \n",
        "sTriangle((margins[1][1] - margins[1][0])* (2/1.73), 5)"
      ]
    },
    {
      "cell_type": "code",
      "execution_count": null,
      "metadata": {},
      "outputs": [],
      "source": [
        "#import ColabTurtle.Turtle as t\n",
        "t.initializeTurtle(13, (500, 500))\n",
        "\n",
        "margins = ((t.window_width() * 0.05, t.window_width() * 0.95), (t.window_height() * 0.05, t.window_height() * 0.95))\n",
        "\n",
        "t.bgcolor('white')\n",
        "t.pencolor('black')\n",
        "t.width(1)\n",
        "t.shape('circle')\n",
        "\n",
        "\n",
        "\n",
        "\n",
        "t.penup()\n",
        "t.home()\n",
        "#t.back(40)\n",
        "t.right(90)\n",
        "t.pendown()\n",
        "\n",
        "\n",
        "\n",
        "def square(side, maxIter, iter = 0):\n",
        "  if (iter>=maxIter):\n",
        "    #t.right(90)\n",
        "    return\n",
        "  else:\n",
        "    for i in range(2):\n",
        "      t.forward(side)\n",
        "      \n",
        "      square(side*(1/2), maxIter, iter = iter+1)\n",
        "      \n",
        "      if iter%2 == 0:\n",
        "        t.left(90)\n",
        "      else:\n",
        "        t.right(90)\n",
        "      \n",
        "      t.forward(side)\n",
        "\n",
        "      if iter%2 == 0:\n",
        "        t.left(90)\n",
        "      else:\n",
        "        t.right(90)\n",
        "      \n",
        "      \n",
        "  \n",
        "square((margins[1][1] / 6), 5)"
      ]
    },
    {
      "cell_type": "code",
      "execution_count": 8,
      "metadata": {},
      "outputs": [
        {
          "data": {
            "text/html": [
              "\n",
              "      <svg width=\"500\" height=\"500\">\n",
              "        <rect width=\"100%\" height=\"100%\" fill=\"white\"/>\n",
              "        <line x1=\"250.0\" y1=\"475.0\" x2=\"250.0\" y2=\"356.25\" stroke-linecap=\"round\" style=\"stroke:black;stroke-width:1\"/><line x1=\"250.0\" y1=\"356.25\" x2=\"227.278\" y2=\"301.395\" stroke-linecap=\"round\" style=\"stroke:black;stroke-width:1\"/><line x1=\"227.278\" y1=\"301.395\" x2=\"206.286\" y2=\"280.403\" stroke-linecap=\"round\" style=\"stroke:black;stroke-width:1\"/><line x1=\"206.286\" y1=\"280.403\" x2=\"227.278\" y2=\"301.395\" stroke-linecap=\"round\" style=\"stroke:black;stroke-width:1\"/><line x1=\"227.278\" y1=\"301.395\" x2=\"197.59\" y2=\"301.395\" stroke-linecap=\"round\" style=\"stroke:black;stroke-width:1\"/><line x1=\"197.59\" y1=\"301.395\" x2=\"227.278\" y2=\"301.395\" stroke-linecap=\"round\" style=\"stroke:black;stroke-width:1\"/><line x1=\"227.278\" y1=\"301.395\" x2=\"206.286\" y2=\"322.387\" stroke-linecap=\"round\" style=\"stroke:black;stroke-width:1\"/><line x1=\"206.286\" y1=\"322.387\" x2=\"227.278\" y2=\"301.395\" stroke-linecap=\"round\" style=\"stroke:black;stroke-width:1\"/><line x1=\"227.278\" y1=\"301.395\" x2=\"227.278\" y2=\"271.707\" stroke-linecap=\"round\" style=\"stroke:black;stroke-width:1\"/><line x1=\"227.278\" y1=\"271.707\" x2=\"227.278\" y2=\"301.394\" stroke-linecap=\"round\" style=\"stroke:black;stroke-width:1\"/><line x1=\"227.278\" y1=\"301.394\" x2=\"248.27\" y2=\"280.402\" stroke-linecap=\"round\" style=\"stroke:black;stroke-width:1\"/><line x1=\"248.27\" y1=\"280.402\" x2=\"227.278\" y2=\"301.394\" stroke-linecap=\"round\" style=\"stroke:black;stroke-width:1\"/><line x1=\"227.278\" y1=\"301.394\" x2=\"256.966\" y2=\"301.394\" stroke-linecap=\"round\" style=\"stroke:black;stroke-width:1\"/><line x1=\"256.966\" y1=\"301.394\" x2=\"227.279\" y2=\"301.394\" stroke-linecap=\"round\" style=\"stroke:black;stroke-width:1\"/><line x1=\"227.279\" y1=\"301.394\" x2=\"250.001\" y2=\"356.249\" stroke-linecap=\"round\" style=\"stroke:black;stroke-width:1\"/><line x1=\"250.001\" y1=\"356.249\" x2=\"195.146\" y2=\"333.527\" stroke-linecap=\"round\" style=\"stroke:black;stroke-width:1\"/><line x1=\"195.146\" y1=\"333.527\" x2=\"165.458\" y2=\"333.527\" stroke-linecap=\"round\" style=\"stroke:black;stroke-width:1\"/><line x1=\"165.458\" y1=\"333.527\" x2=\"195.145\" y2=\"333.527\" stroke-linecap=\"round\" style=\"stroke:black;stroke-width:1\"/><line x1=\"195.145\" y1=\"333.527\" x2=\"174.153\" y2=\"354.519\" stroke-linecap=\"round\" style=\"stroke:black;stroke-width:1\"/><line x1=\"174.153\" y1=\"354.519\" x2=\"195.145\" y2=\"333.527\" stroke-linecap=\"round\" style=\"stroke:black;stroke-width:1\"/><line x1=\"195.145\" y1=\"333.527\" x2=\"195.145\" y2=\"363.214\" stroke-linecap=\"round\" style=\"stroke:black;stroke-width:1\"/><line x1=\"195.145\" y1=\"363.214\" x2=\"195.145\" y2=\"333.526\" stroke-linecap=\"round\" style=\"stroke:black;stroke-width:1\"/><line x1=\"195.145\" y1=\"333.526\" x2=\"174.153\" y2=\"312.534\" stroke-linecap=\"round\" style=\"stroke:black;stroke-width:1\"/><line x1=\"174.153\" y1=\"312.534\" x2=\"195.145\" y2=\"333.526\" stroke-linecap=\"round\" style=\"stroke:black;stroke-width:1\"/><line x1=\"195.145\" y1=\"333.526\" x2=\"195.145\" y2=\"303.839\" stroke-linecap=\"round\" style=\"stroke:black;stroke-width:1\"/><line x1=\"195.145\" y1=\"303.839\" x2=\"195.145\" y2=\"333.526\" stroke-linecap=\"round\" style=\"stroke:black;stroke-width:1\"/><line x1=\"195.145\" y1=\"333.526\" x2=\"216.137\" y2=\"312.534\" stroke-linecap=\"round\" style=\"stroke:black;stroke-width:1\"/><line x1=\"216.137\" y1=\"312.534\" x2=\"195.145\" y2=\"333.526\" stroke-linecap=\"round\" style=\"stroke:black;stroke-width:1\"/><line x1=\"195.145\" y1=\"333.526\" x2=\"250.0\" y2=\"356.248\" stroke-linecap=\"round\" style=\"stroke:black;stroke-width:1\"/><line x1=\"250.0\" y1=\"356.248\" x2=\"195.145\" y2=\"378.97\" stroke-linecap=\"round\" style=\"stroke:black;stroke-width:1\"/><line x1=\"195.145\" y1=\"378.97\" x2=\"174.153\" y2=\"399.962\" stroke-linecap=\"round\" style=\"stroke:black;stroke-width:1\"/><line x1=\"174.153\" y1=\"399.962\" x2=\"195.145\" y2=\"378.97\" stroke-linecap=\"round\" style=\"stroke:black;stroke-width:1\"/><line x1=\"195.145\" y1=\"378.97\" x2=\"195.145\" y2=\"408.658\" stroke-linecap=\"round\" style=\"stroke:black;stroke-width:1\"/><line x1=\"195.145\" y1=\"408.658\" x2=\"195.145\" y2=\"378.971\" stroke-linecap=\"round\" style=\"stroke:black;stroke-width:1\"/><line x1=\"195.145\" y1=\"378.971\" x2=\"216.137\" y2=\"399.963\" stroke-linecap=\"round\" style=\"stroke:black;stroke-width:1\"/><line x1=\"216.137\" y1=\"399.963\" x2=\"195.145\" y2=\"378.971\" stroke-linecap=\"round\" style=\"stroke:black;stroke-width:1\"/><line x1=\"195.145\" y1=\"378.971\" x2=\"165.458\" y2=\"378.971\" stroke-linecap=\"round\" style=\"stroke:black;stroke-width:1\"/><line x1=\"165.458\" y1=\"378.971\" x2=\"195.145\" y2=\"378.971\" stroke-linecap=\"round\" style=\"stroke:black;stroke-width:1\"/><line x1=\"195.145\" y1=\"378.971\" x2=\"174.153\" y2=\"357.979\" stroke-linecap=\"round\" style=\"stroke:black;stroke-width:1\"/><line x1=\"174.153\" y1=\"357.979\" x2=\"195.145\" y2=\"378.971\" stroke-linecap=\"round\" style=\"stroke:black;stroke-width:1\"/><line x1=\"195.145\" y1=\"378.971\" x2=\"195.145\" y2=\"349.284\" stroke-linecap=\"round\" style=\"stroke:black;stroke-width:1\"/><line x1=\"195.145\" y1=\"349.284\" x2=\"195.145\" y2=\"378.971\" stroke-linecap=\"round\" style=\"stroke:black;stroke-width:1\"/><line x1=\"195.145\" y1=\"378.971\" x2=\"250.0\" y2=\"356.249\" stroke-linecap=\"round\" style=\"stroke:black;stroke-width:1\"/><line x1=\"250.0\" y1=\"356.249\" x2=\"272.722\" y2=\"301.394\" stroke-linecap=\"round\" style=\"stroke:black;stroke-width:1\"/><line x1=\"272.722\" y1=\"301.394\" x2=\"272.722\" y2=\"271.707\" stroke-linecap=\"round\" style=\"stroke:black;stroke-width:1\"/><line x1=\"272.722\" y1=\"271.707\" x2=\"272.722\" y2=\"301.394\" stroke-linecap=\"round\" style=\"stroke:black;stroke-width:1\"/><line x1=\"272.722\" y1=\"301.394\" x2=\"251.73\" y2=\"280.402\" stroke-linecap=\"round\" style=\"stroke:black;stroke-width:1\"/><line x1=\"251.73\" y1=\"280.402\" x2=\"272.722\" y2=\"301.394\" stroke-linecap=\"round\" style=\"stroke:black;stroke-width:1\"/><line x1=\"272.722\" y1=\"301.394\" x2=\"243.034\" y2=\"301.394\" stroke-linecap=\"round\" style=\"stroke:black;stroke-width:1\"/><line x1=\"243.034\" y1=\"301.394\" x2=\"272.721\" y2=\"301.394\" stroke-linecap=\"round\" style=\"stroke:black;stroke-width:1\"/><line x1=\"272.721\" y1=\"301.394\" x2=\"293.713\" y2=\"280.402\" stroke-linecap=\"round\" style=\"stroke:black;stroke-width:1\"/><line x1=\"293.713\" y1=\"280.402\" x2=\"272.721\" y2=\"301.394\" stroke-linecap=\"round\" style=\"stroke:black;stroke-width:1\"/><line x1=\"272.721\" y1=\"301.394\" x2=\"302.409\" y2=\"301.394\" stroke-linecap=\"round\" style=\"stroke:black;stroke-width:1\"/><line x1=\"302.409\" y1=\"301.394\" x2=\"272.721\" y2=\"301.394\" stroke-linecap=\"round\" style=\"stroke:black;stroke-width:1\"/><line x1=\"272.721\" y1=\"301.394\" x2=\"293.713\" y2=\"322.386\" stroke-linecap=\"round\" style=\"stroke:black;stroke-width:1\"/><line x1=\"293.713\" y1=\"322.386\" x2=\"272.721\" y2=\"301.394\" stroke-linecap=\"round\" style=\"stroke:black;stroke-width:1\"/><line x1=\"272.721\" y1=\"301.394\" x2=\"249.999\" y2=\"356.249\" stroke-linecap=\"round\" style=\"stroke:black;stroke-width:1\"/><line x1=\"249.999\" y1=\"356.249\" x2=\"304.854\" y2=\"333.527\" stroke-linecap=\"round\" style=\"stroke:black;stroke-width:1\"/><line x1=\"304.854\" y1=\"333.527\" x2=\"325.846\" y2=\"312.535\" stroke-linecap=\"round\" style=\"stroke:black;stroke-width:1\"/><line x1=\"325.846\" y1=\"312.535\" x2=\"304.854\" y2=\"333.527\" stroke-linecap=\"round\" style=\"stroke:black;stroke-width:1\"/><line x1=\"304.854\" y1=\"333.527\" x2=\"304.854\" y2=\"303.839\" stroke-linecap=\"round\" style=\"stroke:black;stroke-width:1\"/><line x1=\"304.854\" y1=\"303.839\" x2=\"304.854\" y2=\"333.526\" stroke-linecap=\"round\" style=\"stroke:black;stroke-width:1\"/><line x1=\"304.854\" y1=\"333.526\" x2=\"283.862\" y2=\"312.534\" stroke-linecap=\"round\" style=\"stroke:black;stroke-width:1\"/><line x1=\"283.862\" y1=\"312.534\" x2=\"304.854\" y2=\"333.526\" stroke-linecap=\"round\" style=\"stroke:black;stroke-width:1\"/><line x1=\"304.854\" y1=\"333.526\" x2=\"334.541\" y2=\"333.526\" stroke-linecap=\"round\" style=\"stroke:black;stroke-width:1\"/><line x1=\"334.541\" y1=\"333.526\" x2=\"304.853\" y2=\"333.526\" stroke-linecap=\"round\" style=\"stroke:black;stroke-width:1\"/><line x1=\"304.853\" y1=\"333.526\" x2=\"325.845\" y2=\"354.518\" stroke-linecap=\"round\" style=\"stroke:black;stroke-width:1\"/><line x1=\"325.845\" y1=\"354.518\" x2=\"304.853\" y2=\"333.526\" stroke-linecap=\"round\" style=\"stroke:black;stroke-width:1\"/><line x1=\"304.853\" y1=\"333.526\" x2=\"304.853\" y2=\"363.214\" stroke-linecap=\"round\" style=\"stroke:black;stroke-width:1\"/><line x1=\"304.853\" y1=\"363.214\" x2=\"304.853\" y2=\"333.526\" stroke-linecap=\"round\" style=\"stroke:black;stroke-width:1\"/><line x1=\"304.853\" y1=\"333.526\" x2=\"249.998\" y2=\"356.248\" stroke-linecap=\"round\" style=\"stroke:black;stroke-width:1\"/><line x1=\"249.998\" y1=\"356.248\" x2=\"304.853\" y2=\"378.97\" stroke-linecap=\"round\" style=\"stroke:black;stroke-width:1\"/><line x1=\"304.853\" y1=\"378.97\" x2=\"334.541\" y2=\"378.97\" stroke-linecap=\"round\" style=\"stroke:black;stroke-width:1\"/><line x1=\"334.541\" y1=\"378.97\" x2=\"304.853\" y2=\"378.97\" stroke-linecap=\"round\" style=\"stroke:black;stroke-width:1\"/><line x1=\"304.853\" y1=\"378.97\" x2=\"325.845\" y2=\"357.978\" stroke-linecap=\"round\" style=\"stroke:black;stroke-width:1\"/><line x1=\"325.845\" y1=\"357.978\" x2=\"304.853\" y2=\"378.97\" stroke-linecap=\"round\" style=\"stroke:black;stroke-width:1\"/><line x1=\"304.853\" y1=\"378.97\" x2=\"304.853\" y2=\"349.283\" stroke-linecap=\"round\" style=\"stroke:black;stroke-width:1\"/><line x1=\"304.853\" y1=\"349.283\" x2=\"304.853\" y2=\"378.971\" stroke-linecap=\"round\" style=\"stroke:black;stroke-width:1\"/><line x1=\"304.853\" y1=\"378.971\" x2=\"325.845\" y2=\"399.963\" stroke-linecap=\"round\" style=\"stroke:black;stroke-width:1\"/><line x1=\"325.845\" y1=\"399.963\" x2=\"304.853\" y2=\"378.971\" stroke-linecap=\"round\" style=\"stroke:black;stroke-width:1\"/><line x1=\"304.853\" y1=\"378.971\" x2=\"304.853\" y2=\"408.659\" stroke-linecap=\"round\" style=\"stroke:black;stroke-width:1\"/><line x1=\"304.853\" y1=\"408.659\" x2=\"304.853\" y2=\"378.971\" stroke-linecap=\"round\" style=\"stroke:black;stroke-width:1\"/><line x1=\"304.853\" y1=\"378.971\" x2=\"283.861\" y2=\"399.963\" stroke-linecap=\"round\" style=\"stroke:black;stroke-width:1\"/><line x1=\"283.861\" y1=\"399.963\" x2=\"304.853\" y2=\"378.971\" stroke-linecap=\"round\" style=\"stroke:black;stroke-width:1\"/><line x1=\"304.853\" y1=\"378.971\" x2=\"249.998\" y2=\"356.249\" stroke-linecap=\"round\" style=\"stroke:black;stroke-width:1\"/><line x1=\"249.998\" y1=\"356.249\" x2=\"249.998\" y2=\"474.999\" stroke-linecap=\"round\" style=\"stroke:black;stroke-width:1\"/>\n",
              "        \n",
              "      <g visibility=visible transform=\"rotate(180.0,249.998,474.999) translate(249.998, 474.999)\">\n",
              "        <circle stroke=\"black\" stroke-width=\"3\" fill=\"transparent\" r=\"12\" cx=\"0\" cy=\"0\"/>\n",
              "        <polygon points=\"0,19 3,16 -3,16\" style=\"fill:black;stroke:black;stroke-width:2\"/>\n",
              "      </g>\n",
              "    \n",
              "      </svg>\n",
              "    "
            ],
            "text/plain": [
              "<IPython.core.display.HTML object>"
            ]
          },
          "metadata": {},
          "output_type": "display_data"
        }
      ],
      "source": [
        "#import ColabTurtle.Turtle as t\n",
        "t.initializeTurtle(13, (500, 500))\n",
        "\n",
        "margins = ((t.window_width() * 0.05, t.window_width() * 0.95), (t.window_height() * 0.05, t.window_height() * 0.95))\n",
        "\n",
        "t.bgcolor('white')\n",
        "t.pencolor('black')\n",
        "t.width(1)\n",
        "t.shape('circle')\n",
        "\n",
        "\n",
        "\n",
        "\n",
        "t.penup()\n",
        "t.goto(t.window_width()/2, margins[1][1])\n",
        "#t.back(40)\n",
        "\n",
        "t.pendown()\n",
        "\n",
        "\n",
        "\n",
        "def lines(len, maxIter, iter = 0):\n",
        "  if (iter>=maxIter):\n",
        "\n",
        "    return\n",
        "  else:\n",
        "\n",
        "    t.forward(len)\n",
        "\n",
        "    t.left(22.5)\n",
        "    lines(len*(1/2), maxIter, iter = iter+1)\n",
        "    \n",
        "    for i in range(2):\n",
        "      t.left(45)\n",
        "      lines(len*(1/2), maxIter, iter = iter+1)\n",
        "\n",
        "    t.right(135)\n",
        "    lines(len*(1/2), maxIter, iter = iter+1)\n",
        "\n",
        "    for i in range(2):\n",
        "      t.right(45)\n",
        "      lines(len*(1/2), maxIter, iter = iter+1)\n",
        "\n",
        "    t.left(90+22.5)\n",
        "    t.back(len)\n",
        "     \n",
        "      \n",
        "      \n",
        "      \n",
        "  \n",
        "lines((margins[1][1] / 4), 3)"
      ]
    }
  ],
  "metadata": {
    "colab": {
      "name": "labTurtle.ipynb",
      "provenance": []
    },
    "kernelspec": {
      "display_name": "Python 3.10.8 64-bit",
      "language": "python",
      "name": "python3"
    },
    "language_info": {
      "codemirror_mode": {
        "name": "ipython",
        "version": 3
      },
      "file_extension": ".py",
      "mimetype": "text/x-python",
      "name": "python",
      "nbconvert_exporter": "python",
      "pygments_lexer": "ipython3",
      "version": "3.10.8"
    },
    "vscode": {
      "interpreter": {
        "hash": "e7370f93d1d0cde622a1f8e1c04877d8463912d04d973331ad4851f04de6915a"
      }
    }
  },
  "nbformat": 4,
  "nbformat_minor": 0
}
