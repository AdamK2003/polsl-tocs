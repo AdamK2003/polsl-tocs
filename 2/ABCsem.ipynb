{
  "cells": [
    {
      "cell_type": "code",
      "execution_count": 6,
      "metadata": {
        "id": "k2sszLnH98Ni"
      },
      "outputs": [],
      "source": [
        "import time\n",
        "from threading import Semaphore, Thread"
      ]
    },
    {
      "cell_type": "code",
      "execution_count": 7,
      "metadata": {
        "id": "RF2B3I8C-PU8",
        "notebookRunGroups": {
          "groupValue": "1"
        }
      },
      "outputs": [],
      "source": [
        "semA = Semaphore(1)\n",
        "semB = Semaphore(0)\n",
        "semC = Semaphore(0)\n",
        "\n",
        "\n",
        "def printA(ntimes):\n",
        "    for i in range(ntimes):\n",
        "        semA.acquire()\n",
        "        print('A ', end=\"\")\n",
        "        semB.release()\n",
        "        semA.acquire()\n",
        "        print('A ', end=\"\")\n",
        "        semC.release()\n",
        "        time.sleep(0.1)\n",
        "\n",
        "\n",
        "def printB(ntimes):\n",
        "    for i in range(ntimes):\n",
        "        semB.acquire()\n",
        "        print('B ', end=\"\")\n",
        "        semA.release()\n",
        "        time.sleep(0.1)\n",
        "\n",
        "\n",
        "def printC(ntimes):\n",
        "    for i in range(ntimes):\n",
        "        semC.acquire()\n",
        "        print('C ', end=\"\")\n",
        "        semA.release()\n",
        "        time.sleep(0.1)"
      ]
    },
    {
      "cell_type": "code",
      "execution_count": 8,
      "metadata": {
        "colab": {
          "base_uri": "https://localhost:8080/"
        },
        "id": "4c3sokDp-Zlv",
        "notebookRunGroups": {
          "groupValue": "1"
        },
        "outputId": "f5209667-6d95-422f-8812-10dedbcb6eb0"
      },
      "outputs": [
        {
          "name": "stdout",
          "output_type": "stream",
          "text": [
            "A B A C A B A C A B A C A B A C A B A C A B A C A B A C A B A C A B A C A B A C \n",
            "All done\n"
          ]
        }
      ],
      "source": [
        "how_many = 10\n",
        "threads = []\n",
        "threads.append(Thread(target=printA, args=(how_many,)))\n",
        "threads.append(Thread(target=printB, args=(how_many,)))\n",
        "threads.append(Thread(target=printC, args=(how_many,)))\n",
        "\n",
        "for thread in threads:\n",
        "    thread.start()\n",
        "for thread in threads:\n",
        "    thread.join()\n",
        "print(\"\\nAll done\")"
      ]
    },
    {
      "cell_type": "code",
      "execution_count": 9,
      "metadata": {
        "id": "RF2B3I8C-PU8",
        "notebookRunGroups": {
          "groupValue": "2"
        }
      },
      "outputs": [],
      "source": [
        "semA = Semaphore(1)\n",
        "semB = Semaphore(0)\n",
        "semC = Semaphore(0)\n",
        "\n",
        "\n",
        "def printA(ntimes):\n",
        "    for i in range(ntimes):\n",
        "        semA.acquire()\n",
        "        print('A ', end=\"\")\n",
        "        semC.release()\n",
        "        semA.acquire()\n",
        "        print('A ', end=\"\")\n",
        "        semC.release()\n",
        "        time.sleep(0.1)\n",
        "\n",
        "\n",
        "def printB(ntimes):\n",
        "    for i in range(ntimes):\n",
        "        semB.acquire()\n",
        "        print('B ', end=\"\")\n",
        "        semA.release()\n",
        "        time.sleep(0.1)\n",
        "\n",
        "\n",
        "def printC(ntimes):\n",
        "    for i in range(ntimes):\n",
        "        semC.acquire()\n",
        "        print('C ', end=\"\")\n",
        "        semB.release()\n",
        "        semC.acquire()\n",
        "        print('C ', end=\"\")\n",
        "        semA.release()\n",
        "        time.sleep(0.1)"
      ]
    },
    {
      "cell_type": "code",
      "execution_count": 10,
      "metadata": {
        "colab": {
          "base_uri": "https://localhost:8080/"
        },
        "id": "4c3sokDp-Zlv",
        "notebookRunGroups": {
          "groupValue": "2"
        },
        "outputId": "f5209667-6d95-422f-8812-10dedbcb6eb0"
      },
      "outputs": [
        {
          "name": "stdout",
          "output_type": "stream",
          "text": [
            "A C B A C A C B A C A C B A C A C B A C A C B A C A C B A C A C B A C A C B A C A C B A C A C B A C \n",
            "All done\n"
          ]
        }
      ],
      "source": [
        "how_many = 10\n",
        "threads = []\n",
        "threads.append(Thread(target=printA, args=(how_many,)))\n",
        "threads.append(Thread(target=printB, args=(how_many,)))\n",
        "threads.append(Thread(target=printC, args=(how_many,)))\n",
        "\n",
        "for thread in threads:\n",
        "    thread.start()\n",
        "for thread in threads:\n",
        "    thread.join()\n",
        "print(\"\\nAll done\")"
      ]
    }
  ],
  "metadata": {
    "colab": {
      "name": "ABCsem.ipynb",
      "provenance": []
    },
    "kernelspec": {
      "display_name": "Python 3.10.8 64-bit",
      "language": "python",
      "name": "python3"
    },
    "language_info": {
      "codemirror_mode": {
        "name": "ipython",
        "version": 3
      },
      "file_extension": ".py",
      "mimetype": "text/x-python",
      "name": "python",
      "nbconvert_exporter": "python",
      "pygments_lexer": "ipython3",
      "version": "3.10.8"
    },
    "vscode": {
      "interpreter": {
        "hash": "e7370f93d1d0cde622a1f8e1c04877d8463912d04d973331ad4851f04de6915a"
      }
    }
  },
  "nbformat": 4,
  "nbformat_minor": 0
}
