{
  "cells": [
    {
      "cell_type": "code",
      "execution_count": 2,
      "metadata": {
        "id": "r5nl9ReQDVWx"
      },
      "outputs": [],
      "source": [
        "from threading import Semaphore, Thread"
      ]
    },
    {
      "cell_type": "code",
      "execution_count": 16,
      "metadata": {
        "id": "ITQX0tceDidm",
        "notebookRunGroups": {
          "groupValue": "1"
        }
      },
      "outputs": [],
      "source": [
        "# global variables\n",
        "A: int = 0\n",
        "B: int = 0\n",
        "C: int = 3\n",
        "\n",
        "# desired result: 46\n",
        "\n",
        "# define semaphores\n",
        "sA = Semaphore(1)\n",
        "sB = Semaphore(0)\n",
        "sC = Semaphore(0)\n",
        "sD = Semaphore(0)\n"
      ]
    },
    {
      "cell_type": "code",
      "execution_count": 17,
      "metadata": {
        "id": "XgSzkC8eDmE_",
        "notebookRunGroups": {
          "groupValue": "1"
        }
      },
      "outputs": [],
      "source": [
        "def threadP1():\n",
        "\n",
        "    global A\n",
        "    global B\n",
        "    global C\n",
        "\n",
        "    sA.acquire()\n",
        "    A = 10 # 10, 0, 3 = 13\n",
        "    sB.release()\n",
        "    \n",
        "    sA.acquire()\n",
        "    B = B + 5 # 10, 8, 3 = 21\n",
        "    sC.release()\n",
        "\n",
        "\n",
        "    C = C + A\n",
        "\n",
        "\n",
        "    print(\"Thread P1 is done...\")\n",
        "\n",
        "def threadP2():\n",
        "\n",
        "    global A\n",
        "    global B\n",
        "    global C\n",
        "\n",
        "    sB.acquire()\n",
        "    B = B + C # 10, 3, 3 = 16\n",
        "    sA.release()\n",
        "    return print(\"Thread P2 is done...\")\n",
        "\n",
        "\n",
        "    A = A + B\n",
        "\n",
        "\n",
        "    \n",
        "\n",
        "def threadP3():\n",
        "\n",
        "    global A\n",
        "    global B\n",
        "    global C\n",
        "\n",
        "    sC.acquire()\n",
        "    C = B + 10 # 10, 8, 18 = 36\n",
        "\n",
        "    A = 2 * A # 20, 8, 18 = 46\n",
        "    sD.release()\n",
        "    return print(\"Thread P3 is done...\")\n",
        "\n",
        "    B = B + A\n",
        "\n",
        "\n",
        "    \n",
        "\n",
        "def threadP4():\n",
        "\n",
        "    global A\n",
        "    global B\n",
        "    global C\n",
        "\n",
        "    sD.acquire()\n",
        "    print(\"Sum result: \",A,\" + \",B,\" + \",C,\" = \",(A + B + C))\n",
        "\n",
        "    print(\"Thread P4 is done...\")"
      ]
    },
    {
      "cell_type": "code",
      "execution_count": 18,
      "metadata": {
        "colab": {
          "base_uri": "https://localhost:8080/"
        },
        "id": "-bb4DNUEDp6m",
        "notebookRunGroups": {
          "groupValue": "1"
        },
        "outputId": "be25a1b2-2b0b-49bb-8b04-a4ac15d32866"
      },
      "outputs": [
        {
          "name": "stdout",
          "output_type": "stream",
          "text": [
            "Thread P2 is done...\n",
            "Thread P1 is done...\n",
            "Thread P3 is done...\n",
            "Sum result:  20  +  8  +  18  =  46\n",
            "Thread P4 is done...\n",
            "All done\n"
          ]
        }
      ],
      "source": [
        "threads = []\n",
        "threads.append(Thread(target=threadP1))\n",
        "threads.append(Thread(target=threadP2))\n",
        "threads.append(Thread(target=threadP3))\n",
        "threads.append(Thread(target=threadP4))\n",
        "\n",
        "for thread in threads:\n",
        "    thread.start()\n",
        "for thread in threads:\n",
        "    thread.join()\n",
        "print(\"All done\")"
      ]
    },
    {
      "cell_type": "code",
      "execution_count": 25,
      "metadata": {
        "id": "ITQX0tceDidm",
        "notebookRunGroups": {
          "groupValue": "2"
        }
      },
      "outputs": [],
      "source": [
        "# global variables\n",
        "A: int = 0\n",
        "B: int = 0\n",
        "C: int = 3\n",
        "\n",
        "# desired result: 21\n",
        "\n",
        "# define semaphores\n",
        "sA = Semaphore(1)\n",
        "sB = Semaphore(0)\n",
        "sC = Semaphore(0)\n",
        "sD = Semaphore(0)\n"
      ]
    },
    {
      "cell_type": "code",
      "execution_count": 26,
      "metadata": {
        "id": "XgSzkC8eDmE_",
        "notebookRunGroups": {
          "groupValue": "2"
        }
      },
      "outputs": [],
      "source": [
        "def threadP1():\n",
        "\n",
        "    global A\n",
        "    global B\n",
        "    global C\n",
        "\n",
        "    sA.acquire()\n",
        "    A = 10 # 10, 0, 3 = 13\n",
        "    sB.release()\n",
        "    \n",
        "    sA.acquire()\n",
        "    B = B + 5 # 10, 8, 3 = 21\n",
        "    sD.release()\n",
        "    return print(\"Thread P1 is done...\")\n",
        "\n",
        "\n",
        "    C = C + A\n",
        "\n",
        "\n",
        "    \n",
        "\n",
        "def threadP2():\n",
        "\n",
        "    global A\n",
        "    global B\n",
        "    global C\n",
        "\n",
        "    sB.acquire()\n",
        "    B = B + C # 10, 3, 3 = 16\n",
        "    sA.release()\n",
        "    return print(\"Thread P2 is done...\")\n",
        "\n",
        "\n",
        "    A = A + B\n",
        "\n",
        "\n",
        "    \n",
        "\n",
        "def threadP3():\n",
        "\n",
        "    global A\n",
        "    global B\n",
        "    global C\n",
        "\n",
        "    return print(\"Thread P3 is done...\")\n",
        "\n",
        "    C = B + 10\n",
        "\n",
        "    A = 2 * A\n",
        "\n",
        "    \n",
        "\n",
        "    B = B + A\n",
        "\n",
        "\n",
        "    \n",
        "\n",
        "def threadP4():\n",
        "\n",
        "    global A\n",
        "    global B\n",
        "    global C\n",
        "\n",
        "    sD.acquire()\n",
        "    print(\"Sum result: \",A,\" + \",B,\" + \",C,\" = \",(A + B + C))\n",
        "\n",
        "    print(\"Thread P4 is done...\")"
      ]
    },
    {
      "cell_type": "code",
      "execution_count": 27,
      "metadata": {
        "colab": {
          "base_uri": "https://localhost:8080/"
        },
        "id": "-bb4DNUEDp6m",
        "notebookRunGroups": {
          "groupValue": "2"
        },
        "outputId": "be25a1b2-2b0b-49bb-8b04-a4ac15d32866"
      },
      "outputs": [
        {
          "name": "stdout",
          "output_type": "stream",
          "text": [
            "Thread P2 is done...\n",
            "Thread P1 is done...\n",
            "Thread P3 is done...\n",
            "Sum result:  10  +  8  +  3  =  21\n",
            "Thread P4 is done...\n",
            "All done\n"
          ]
        }
      ],
      "source": [
        "threads = []\n",
        "threads.append(Thread(target=threadP1))\n",
        "threads.append(Thread(target=threadP2))\n",
        "threads.append(Thread(target=threadP3))\n",
        "threads.append(Thread(target=threadP4))\n",
        "\n",
        "for thread in threads:\n",
        "    thread.start()\n",
        "for thread in threads:\n",
        "    thread.join()\n",
        "print(\"All done\")"
      ]
    }
  ],
  "metadata": {
    "colab": {
      "name": "semSumTask.ipynb",
      "provenance": []
    },
    "kernelspec": {
      "display_name": "Python 3.10.8 64-bit",
      "language": "python",
      "name": "python3"
    },
    "language_info": {
      "codemirror_mode": {
        "name": "ipython",
        "version": 3
      },
      "file_extension": ".py",
      "mimetype": "text/x-python",
      "name": "python",
      "nbconvert_exporter": "python",
      "pygments_lexer": "ipython3",
      "version": "3.10.8"
    },
    "vscode": {
      "interpreter": {
        "hash": "e7370f93d1d0cde622a1f8e1c04877d8463912d04d973331ad4851f04de6915a"
      }
    }
  },
  "nbformat": 4,
  "nbformat_minor": 0
}
